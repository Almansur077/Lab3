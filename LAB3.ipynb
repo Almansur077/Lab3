{
 "cells": [
  {
   "cell_type": "code",
   "execution_count": 4,
   "id": "b7b1edcc-431a-4638-a64f-bd9c850cee01",
   "metadata": {},
   "outputs": [
    {
     "name": "stdin",
     "output_type": "stream",
     "text": [
      " 28.3495231\n"
     ]
    },
    {
     "name": "stdout",
     "output_type": "stream",
     "text": [
      "1.0\n"
     ]
    }
   ],
   "source": [
    "#1 TASK\n",
    "def ounces(a):\n",
    "    return a/28.3495231\n",
    "print(ounces(float(input())))"
   ]
  },
  {
   "cell_type": "code",
   "execution_count": 6,
   "id": "93802afc-cb80-4e85-9c14-ec3f286702dc",
   "metadata": {},
   "outputs": [
    {
     "name": "stdin",
     "output_type": "stream",
     "text": [
      " 212\n"
     ]
    },
    {
     "name": "stdout",
     "output_type": "stream",
     "text": [
      "100.0\n"
     ]
    }
   ],
   "source": [
    "#2 TASK\n",
    "def farik(a):\n",
    "    return (((a-32)*5)/9)\n",
    "print(farik(int(input())))"
   ]
  },
  {
   "cell_type": "code",
   "execution_count": 8,
   "id": "82432df0-3789-4771-a278-0d3809ed994c",
   "metadata": {},
   "outputs": [
    {
     "name": "stdin",
     "output_type": "stream",
     "text": [
      " 35\n",
      " 94\n"
     ]
    },
    {
     "name": "stdout",
     "output_type": "stream",
     "text": [
      "summ of KFC=12 summ of rabbits=23\n"
     ]
    }
   ],
   "source": [
    "#3 TASK\n",
    "\"\"\"\n",
    "x+y=35 (Головы всех)\n",
    "2x+4Y=94(Ноги)\n",
    "x=23\n",
    "y=12\n",
    "x=KFC\n",
    "y=12 rabits\n",
    "\"\"\"\n",
    "def solve(numheads, numlegs):\n",
    "    x = (numlegs - 2 * numheads) / 2  # summ KFC\n",
    "    y = numheads - x  # summ rabbits\n",
    "    print (f\"summ of KFC={int(x)} summ of rabbits={int(y)}\")\n",
    "\n",
    "solve(int(input()),int(input()))"
   ]
  },
  {
   "cell_type": "code",
   "execution_count": 14,
   "id": "9aaa0faa-a0be-4f89-8c05-b0cc4a627482",
   "metadata": {},
   "outputs": [
    {
     "name": "stdout",
     "output_type": "stream",
     "text": [
      "[2, 3, 5]\n",
      "[2, 3, 5, 7, 11]\n"
     ]
    },
    {
     "data": {
      "text/plain": [
       "'arr=[1,2,3,4,5,6]\\narr2=[]\\nfor i in range (len(arr)):\\n   a=arr[i]\\n   counter = 0\\n   for j in range(1,a+1):\\n       if (a % j == 0):\\n           counter += 1\\n   if (counter==2):\\n        arr2.append(a)\\nprint(arr2)\\n\\na=int(input())\\ncounter=0\\nfor i in range(1,a+1):\\n    if (a%i==0):\\n        counter+=1\\nif (counter==2):\\n    print (\"Primary number\")\\nelif (counter>2):\\n    print (\"Nope\")'"
      ]
     },
     "execution_count": 14,
     "metadata": {},
     "output_type": "execute_result"
    }
   ],
   "source": [
    "#4 TASK\n",
    "def prime(l):\n",
    "    n_arr=[]\n",
    "    for i in range(len(l)):\n",
    "        a = l[i]\n",
    "        counter = 0\n",
    "        for j in range(1, a + 1):\n",
    "            if (a % j == 0):\n",
    "                counter += 1\n",
    "        if (counter == 2):\n",
    "             n_arr.append(a)\n",
    "    return n_arr\n",
    "arr=[1,2,3,4,5,6]\n",
    "result=prime(arr)\n",
    "print(result)\n",
    "arr=[1,2,3,4,5,6,7,8,9,11]\n",
    "result=prime(arr)\n",
    "print(result)\n",
    "\n",
    "\"\"\"arr=[1,2,3,4,5,6]\n",
    "arr2=[]\n",
    "for i in range (len(arr)):\n",
    "   a=arr[i]\n",
    "   counter = 0\n",
    "   for j in range(1,a+1):\n",
    "       if (a % j == 0):\n",
    "           counter += 1\n",
    "   if (counter==2):\n",
    "        arr2.append(a)\n",
    "print(arr2)\n",
    "\n",
    "a=int(input())\n",
    "counter=0\n",
    "for i in range(1,a+1):\n",
    "    if (a%i==0):\n",
    "        counter+=1\n",
    "if (counter==2):\n",
    "    print (\"Primary number\")\n",
    "elif (counter>2):\n",
    "    print (\"Nope\")\"\"\""
   ]
  },
  {
   "cell_type": "code",
   "execution_count": 2,
   "id": "d22b9c4a-60c1-4c89-a238-818c0d6c2ece",
   "metadata": {},
   "outputs": [
    {
     "name": "stdin",
     "output_type": "stream",
     "text": [
      "Введите строку:  abc\n"
     ]
    },
    {
     "name": "stdout",
     "output_type": "stream",
     "text": [
      "abc\n",
      "acb\n",
      "bac\n",
      "bca\n",
      "cab\n",
      "cba\n"
     ]
    }
   ],
   "source": [
    "#5 TASK\n",
    "from itertools import permutations\n",
    "\n",
    "def print_permutations(s):\n",
    "    for perm in permutations(s):\n",
    "        print(''.join(perm))\n",
    "\n",
    "user_input = input(\"Введите строку: \")\n",
    "print_permutations(user_input)"
   ]
  },
  {
   "cell_type": "code",
   "execution_count": 4,
   "id": "45eb0312-3083-4ffd-a9d9-b6c41304e6e9",
   "metadata": {},
   "outputs": [
    {
     "name": "stdin",
     "output_type": "stream",
     "text": [
      "Введите строку:  we are\n"
     ]
    },
    {
     "name": "stdout",
     "output_type": "stream",
     "text": [
      "are we\n"
     ]
    }
   ],
   "source": [
    "#6 TASK\n",
    "def reverse_words(sentence):\n",
    "    return ' '.join(sentence.split()[::-1])\n",
    "\n",
    "\n",
    "a = input(\"Введите строку: \")\n",
    "print(reverse_words(a))"
   ]
  },
  {
   "cell_type": "code",
   "execution_count": 14,
   "id": "d2d5a499-49ff-4c4f-8788-1c35f62886dd",
   "metadata": {},
   "outputs": [
    {
     "name": "stdin",
     "output_type": "stream",
     "text": [
      " 5\n",
      " 1\n",
      " 2\n",
      " 3\n",
      " 3\n",
      " 4\n"
     ]
    },
    {
     "name": "stdout",
     "output_type": "stream",
     "text": [
      "True\n"
     ]
    }
   ],
   "source": [
    "#7 TASK\n",
    "def arr():\n",
    "    a = int(input())\n",
    "    arr = []\n",
    "    for i in range(a):\n",
    "        value = int(input())\n",
    "        arr.append(value)\n",
    "    for i in range(a-1):\n",
    "        found = False\n",
    "        if (arr[i] == 3 and arr[i+1] == arr[i]):\n",
    "            found = True\n",
    "            print(\"True\")\n",
    "            break\n",
    "    if not found:\n",
    "        print(found)\n",
    "\n",
    "arr()"
   ]
  },
  {
   "cell_type": "code",
   "execution_count": 16,
   "id": "39c082fc-34d0-4b59-b7ad-e08071d6ede0",
   "metadata": {},
   "outputs": [
    {
     "name": "stdin",
     "output_type": "stream",
     "text": [
      " 5\n",
      " 1\n",
      " 2\n",
      " 0\n",
      " 7\n",
      " 0\n"
     ]
    },
    {
     "name": "stdout",
     "output_type": "stream",
     "text": [
      "False\n"
     ]
    }
   ],
   "source": [
    "#8 TASK\n",
    "def aleke():\n",
    "    a = int(input())\n",
    "    arr = []\n",
    "    for i in range(a):\n",
    "        value = int(input())\n",
    "        arr.append(value)\n",
    "    lol=[0,0,7]\n",
    "    i=0\n",
    "    for b in arr:\n",
    "        if b==lol[i]:\n",
    "            i+=1\n",
    "    if (i==3):\n",
    "        print(\"True\")\n",
    "    else:\n",
    "        print(\"False\")\n",
    "aleke()"
   ]
  },
  {
   "cell_type": "code",
   "execution_count": 18,
   "id": "298cfed1-4fe6-4944-80c4-eb9b9c811767",
   "metadata": {},
   "outputs": [
    {
     "name": "stdin",
     "output_type": "stream",
     "text": [
      " 10\n"
     ]
    },
    {
     "name": "stdout",
     "output_type": "stream",
     "text": [
      "4000\n"
     ]
    }
   ],
   "source": [
    "#8 TASK\n",
    "def aleke():\n",
    "    a=int(input())\n",
    "    print(4*pow(a,3)) #p=3 form=(4/3)*pow(a,3)\n",
    "aleke()"
   ]
  },
  {
   "cell_type": "code",
   "execution_count": 20,
   "id": "f0c501c3-f7b8-4df4-952f-9c8acc5cf307",
   "metadata": {},
   "outputs": [
    {
     "name": "stdin",
     "output_type": "stream",
     "text": [
      " 5\n",
      " 1\n",
      " 1\n",
      " 2\n",
      " 2\n",
      " 3\n"
     ]
    },
    {
     "name": "stdout",
     "output_type": "stream",
     "text": [
      "[1, 2, 3]\n"
     ]
    }
   ],
   "source": [
    "#9 TASK\n",
    "def aleke():\n",
    "    a=int(input())\n",
    "    arr=[]\n",
    "    for i in range (a):\n",
    "        value=int(input())\n",
    "        arr.append(value)\n",
    "    arr.sort()\n",
    "    new=[]\n",
    "    for i in range(a-1):\n",
    "        if (arr[i]!=arr[i+1]):\n",
    "            new.append(arr[i])\n",
    "    new.append(arr[-1])\n",
    "\n",
    "\n",
    "    print(new)\n",
    "aleke()"
   ]
  },
  {
   "cell_type": "code",
   "execution_count": 22,
   "id": "9d80037a-5059-4e07-88fa-f0dbaa56dbac",
   "metadata": {},
   "outputs": [
    {
     "name": "stdin",
     "output_type": "stream",
     "text": [
      " 5\n",
      " 1\n",
      " 1\n",
      " 2\n",
      " 2\n",
      " 3\n"
     ]
    },
    {
     "name": "stdout",
     "output_type": "stream",
     "text": [
      "[1, 2, 3]\n"
     ]
    }
   ],
   "source": [
    "#10 TASK\n",
    "def aleke():\n",
    "    a=int(input())\n",
    "    arr=[]\n",
    "    for i in range (a):\n",
    "        value=int(input())\n",
    "        arr.append(value)\n",
    "    arr.sort()\n",
    "    new=[]\n",
    "    for i in range(a-1):\n",
    "        if (arr[i]!=arr[i+1]):\n",
    "            new.append(arr[i])\n",
    "    new.append(arr[-1])\n",
    "\n",
    "\n",
    "    print(new)\n",
    "aleke()\n"
   ]
  },
  {
   "cell_type": "code",
   "execution_count": 24,
   "id": "4068f86d-cbae-47fa-b744-37dab733f478",
   "metadata": {},
   "outputs": [
    {
     "name": "stdin",
     "output_type": "stream",
     "text": [
      " madam\n"
     ]
    },
    {
     "name": "stdout",
     "output_type": "stream",
     "text": [
      "True\n"
     ]
    }
   ],
   "source": [
    "def aleke():\n",
    "    a=str(input())\n",
    "    if (a==a[::-1]):\n",
    "        print(\"True\")\n",
    "    else:\n",
    "        print(\"False\")\n",
    "aleke()\n"
   ]
  },
  {
   "cell_type": "code",
   "execution_count": 26,
   "id": "f7ea0224-5aca-45f8-94f5-fd46ec08356d",
   "metadata": {},
   "outputs": [
    {
     "name": "stdin",
     "output_type": "stream",
     "text": [
      " 4\n",
      " 1\n",
      " 2\n",
      " 3\n",
      " 4\n"
     ]
    },
    {
     "name": "stdout",
     "output_type": "stream",
     "text": [
      "*\n",
      "**\n",
      "***\n",
      "****\n"
     ]
    }
   ],
   "source": [
    "def aleke():\n",
    "    a=int(input())\n",
    "    arr=[]\n",
    "    for i in range(a):\n",
    "        arr.append(int(input()))\n",
    "    for b in arr:\n",
    "        print(\"*\"*b)\n",
    "aleke()\n"
   ]
  },
  {
   "cell_type": "code",
   "execution_count": 28,
   "id": "b37f2988-b546-43c9-8919-667e9fbe3a84",
   "metadata": {},
   "outputs": [
    {
     "name": "stdout",
     "output_type": "stream",
     "text": [
      "Hello! What is your name?\n"
     ]
    },
    {
     "name": "stdin",
     "output_type": "stream",
     "text": [
      " aleke\n"
     ]
    },
    {
     "name": "stdout",
     "output_type": "stream",
     "text": [
      "Well, aleke, I am thinking of a number between 1 and 20.\n",
      "Take a guess.\n"
     ]
    },
    {
     "name": "stdin",
     "output_type": "stream",
     "text": [
      " 12\n"
     ]
    },
    {
     "name": "stdout",
     "output_type": "stream",
     "text": [
      "Your guess is too high.\n",
      "Take a guess.\n"
     ]
    },
    {
     "name": "stdin",
     "output_type": "stream",
     "text": [
      " 5\n"
     ]
    },
    {
     "name": "stdout",
     "output_type": "stream",
     "text": [
      "Your guess is too low.\n",
      "Take a guess.\n"
     ]
    },
    {
     "name": "stdin",
     "output_type": "stream",
     "text": [
      " 8\n"
     ]
    },
    {
     "name": "stdout",
     "output_type": "stream",
     "text": [
      "Your guess is too low.\n",
      "Take a guess.\n"
     ]
    },
    {
     "name": "stdin",
     "output_type": "stream",
     "text": [
      " 10\n"
     ]
    },
    {
     "name": "stdout",
     "output_type": "stream",
     "text": [
      "Your guess is too high.\n",
      "Take a guess.\n"
     ]
    },
    {
     "name": "stdin",
     "output_type": "stream",
     "text": [
      " 9\n"
     ]
    },
    {
     "name": "stdout",
     "output_type": "stream",
     "text": [
      "Good job, aleke! You guessed my number in 5 guesses!\n"
     ]
    }
   ],
   "source": [
    "import random\n",
    "def guess_the_number():\n",
    "    print(\"Hello! What is your name?\")\n",
    "    name = input()\n",
    "    print(f\"Well, {name}, I am thinking of a number between 1 and 20.\")\n",
    "    number_to_guess = random.randint(1, 20)\n",
    "    attempts = 0\n",
    "    guessed = False\n",
    "    while not guessed:\n",
    "        print(\"Take a guess.\")\n",
    "        guess = int(input())\n",
    "        attempts += 1\n",
    "        if guess < number_to_guess:\n",
    "            print(\"Your guess is too low.\")\n",
    "        elif guess > number_to_guess:\n",
    "            print(\"Your guess is too high.\")\n",
    "        else:\n",
    "            guessed = True\n",
    "            print(f\"Good job, {name}! You guessed my number in {attempts} guesses!\")\n",
    "guess_the_number()"
   ]
  },
  {
   "cell_type": "code",
   "execution_count": 33,
   "id": "91dd9653-6540-4d88-8c00-1b945c5779e4",
   "metadata": {},
   "outputs": [
    {
     "name": "stdout",
     "output_type": "stream",
     "text": [
      "True\n",
      "True\n",
      "True\n",
      "True\n",
      "True\n",
      "True\n",
      "True\n",
      "False\n",
      "False\n",
      "False\n",
      "True\n",
      "True\n",
      "True\n",
      "False\n",
      "True\n"
     ]
    }
   ],
   "source": [
    "# Dictionary of movies\n",
    "def aleke(movie):\n",
    "    return movie[\"imdb\"]>5.5\n",
    "movies = [\n",
    "{\n",
    "\"name\": \"Usual Suspects\",\n",
    "\"imdb\": 7.0,\n",
    "\"category\": \"Thriller\"\n",
    "},\n",
    "{\n",
    "\"name\": \"Hitman\",\n",
    "\"imdb\": 6.3,\n",
    "\"category\": \"Action\"\n",
    "},\n",
    "{\n",
    "\"name\": \"Dark Knight\",\n",
    "\"imdb\": 9.0,\n",
    "\"category\": \"Adventure\"\n",
    "},\n",
    "{\n",
    "\"name\": \"The Help\",\n",
    "\"imdb\": 8.0,\n",
    "\"category\": \"Drama\"\n",
    "},\n",
    "{\n",
    "\"name\": \"The Choice\",\n",
    "\"imdb\": 6.2,\n",
    "\"category\": \"Romance\"\n",
    "},\n",
    "{\n",
    "\"name\": \"Colonia\",\n",
    "\"imdb\": 7.4,\n",
    "\"category\": \"Romance\"\n",
    "},\n",
    "{\n",
    "\"name\": \"Love\",\n",
    "\"imdb\": 6.0,\n",
    "\"category\": \"Romance\"\n",
    "},\n",
    "{\n",
    "\"name\": \"Bride Wars\",\n",
    "\"imdb\": 5.4,\n",
    "\"category\": \"Romance\"\n",
    "},\n",
    "{\n",
    "\"name\": \"AlphaJet\",\n",
    "\"imdb\": 3.2,\n",
    "\"category\": \"War\"\n",
    "},\n",
    "{\n",
    "\"name\": \"Ringing Crime\",\n",
    "\"imdb\": 4.0,\n",
    "\"category\": \"Crime\"\n",
    "},\n",
    "{\n",
    "\"name\": \"Joking muck\",\n",
    "\"imdb\": 7.2,\n",
    "\"category\": \"Comedy\"\n",
    "},\n",
    "{\n",
    "\"name\": \"What is the name\",\n",
    "\"imdb\": 9.2,\n",
    "\"category\": \"Suspense\"\n",
    "},\n",
    "{\n",
    "\"name\": \"Detective\",\n",
    "\"imdb\": 7.0,\n",
    "\"category\": \"Suspense\"\n",
    "},\n",
    "{\n",
    "\"name\": \"Exam\",\n",
    "\"imdb\": 4.2,\n",
    "\"category\": \"Thriller\"\n",
    "},\n",
    "{\n",
    "\"name\": \"We Two\",\n",
    "\"imdb\": 7.2,\n",
    "\"category\": \"Romance\"\n",
    "}\n",
    "]\n",
    "for movie in movies:\n",
    "    print(aleke(movie))"
   ]
  },
  {
   "cell_type": "code",
   "execution_count": 35,
   "id": "652cd695-da4f-4963-9bd3-69443193822d",
   "metadata": {},
   "outputs": [
    {
     "name": "stdout",
     "output_type": "stream",
     "text": [
      "Usual Suspects\n",
      "Hitman\n",
      "Dark Knight\n",
      "The Help\n",
      "The Choice\n",
      "Colonia\n",
      "Love\n",
      "Joking muck\n",
      "What is the name\n",
      "Detective\n",
      "We Two\n"
     ]
    }
   ],
   "source": [
    "# Dictionary of movies\n",
    "def aleke():\n",
    "    for i in range (len(movies)):\n",
    "        if (movies[i][\"imdb\"]>5.5):\n",
    "            print(movies[i][\"name\"])\n",
    "\n",
    "\n",
    "movies = [\n",
    "{\n",
    "\"name\": \"Usual Suspects\",\n",
    "\"imdb\": 7.0,\n",
    "\"category\": \"Thriller\"\n",
    "},\n",
    "{\n",
    "\"name\": \"Hitman\",\n",
    "\"imdb\": 6.3,\n",
    "\"category\": \"Action\"\n",
    "},\n",
    "{\n",
    "\"name\": \"Dark Knight\",\n",
    "\"imdb\": 9.0,\n",
    "\"category\": \"Adventure\"\n",
    "},\n",
    "{\n",
    "\"name\": \"The Help\",\n",
    "\"imdb\": 8.0,\n",
    "\"category\": \"Drama\"\n",
    "},\n",
    "{\n",
    "\"name\": \"The Choice\",\n",
    "\"imdb\": 6.2,\n",
    "\"category\": \"Romance\"\n",
    "},\n",
    "{\n",
    "\"name\": \"Colonia\",\n",
    "\"imdb\": 7.4,\n",
    "\"category\": \"Romance\"\n",
    "},\n",
    "{\n",
    "\"name\": \"Love\",\n",
    "\"imdb\": 6.0,\n",
    "\"category\": \"Romance\"\n",
    "},\n",
    "{\n",
    "\"name\": \"Bride Wars\",\n",
    "\"imdb\": 5.4,\n",
    "\"category\": \"Romance\"\n",
    "},\n",
    "{\n",
    "\"name\": \"AlphaJet\",\n",
    "\"imdb\": 3.2,\n",
    "\"category\": \"War\"\n",
    "},\n",
    "{\n",
    "\"name\": \"Ringing Crime\",\n",
    "\"imdb\": 4.0,\n",
    "\"category\": \"Crime\"\n",
    "},\n",
    "{\n",
    "\"name\": \"Joking muck\",\n",
    "\"imdb\": 7.2,\n",
    "\"category\": \"Comedy\"\n",
    "},\n",
    "{\n",
    "\"name\": \"What is the name\",\n",
    "\"imdb\": 9.2,\n",
    "\"category\": \"Suspense\"\n",
    "},\n",
    "{\n",
    "\"name\": \"Detective\",\n",
    "\"imdb\": 7.0,\n",
    "\"category\": \"Suspense\"\n",
    "},\n",
    "{\n",
    "\"name\": \"Exam\",\n",
    "\"imdb\": 4.2,\n",
    "\"category\": \"Thriller\"\n",
    "},\n",
    "{\n",
    "\"name\": \"We Two\",\n",
    "\"imdb\": 7.2,\n",
    "\"category\": \"Romance\"\n",
    "}\n",
    "]\n",
    "aleke()\n"
   ]
  },
  {
   "cell_type": "code",
   "execution_count": 37,
   "id": "7f9e6f9c-ae86-469b-99a0-4ef7bfb14362",
   "metadata": {},
   "outputs": [
    {
     "name": "stdin",
     "output_type": "stream",
     "text": [
      " Romance\n"
     ]
    },
    {
     "name": "stdout",
     "output_type": "stream",
     "text": [
      "The Choice\n",
      "Colonia\n",
      "Love\n",
      "Bride Wars\n",
      "We Two\n"
     ]
    }
   ],
   "source": [
    "# Dictionary of movies\n",
    "def aleke():\n",
    "    a=input()\n",
    "    for movie in movies:\n",
    "        if a==movie[\"category\"]:\n",
    "            print(movie[\"name\"])\n",
    "\n",
    "movies = [\n",
    "{\n",
    "\"name\": \"Usual Suspects\",\n",
    "\"imdb\": 7.0,\n",
    "\"category\": \"Thriller\"\n",
    "},\n",
    "{\n",
    "\"name\": \"Hitman\",\n",
    "\"imdb\": 6.3,\n",
    "\"category\": \"Action\"\n",
    "},\n",
    "{\n",
    "\"name\": \"Dark Knight\",\n",
    "\"imdb\": 9.0,\n",
    "\"category\": \"Adventure\"\n",
    "},\n",
    "{\n",
    "\"name\": \"The Help\",\n",
    "\"imdb\": 8.0,\n",
    "\"category\": \"Drama\"\n",
    "},\n",
    "{\n",
    "\"name\": \"The Choice\",\n",
    "\"imdb\": 6.2,\n",
    "\"category\": \"Romance\"\n",
    "},\n",
    "{\n",
    "\"name\": \"Colonia\",\n",
    "\"imdb\": 7.4,\n",
    "\"category\": \"Romance\"\n",
    "},\n",
    "{\n",
    "\"name\": \"Love\",\n",
    "\"imdb\": 6.0,\n",
    "\"category\": \"Romance\"\n",
    "},\n",
    "{\n",
    "\"name\": \"Bride Wars\",\n",
    "\"imdb\": 5.4,\n",
    "\"category\": \"Romance\"\n",
    "},\n",
    "{\n",
    "\"name\": \"AlphaJet\",\n",
    "\"imdb\": 3.2,\n",
    "\"category\": \"War\"\n",
    "},\n",
    "{\n",
    "\"name\": \"Ringing Crime\",\n",
    "\"imdb\": 4.0,\n",
    "\"category\": \"Crime\"\n",
    "},\n",
    "{\n",
    "\"name\": \"Joking muck\",\n",
    "\"imdb\": 7.2,\n",
    "\"category\": \"Comedy\"\n",
    "},\n",
    "{\n",
    "\"name\": \"What is the name\",\n",
    "\"imdb\": 9.2,\n",
    "\"category\": \"Suspense\"\n",
    "},\n",
    "{\n",
    "\"name\": \"Detective\",\n",
    "\"imdb\": 7.0,\n",
    "\"category\": \"Suspense\"\n",
    "},\n",
    "{\n",
    "\"name\": \"Exam\",\n",
    "\"imdb\": 4.2,\n",
    "\"category\": \"Thriller\"\n",
    "},\n",
    "{\n",
    "\"name\": \"We Two\",\n",
    "\"imdb\": 7.2,\n",
    "\"category\": \"Romance\"\n",
    "}\n",
    "]\n",
    "aleke()"
   ]
  },
  {
   "cell_type": "code",
   "execution_count": 39,
   "id": "6339f827-7daa-4419-add0-4622d0741d61",
   "metadata": {},
   "outputs": [
    {
     "name": "stdout",
     "output_type": "stream",
     "text": [
      "6.486666666666667\n"
     ]
    }
   ],
   "source": [
    "def aleke():\n",
    "    counter = 0\n",
    "    for i in range(len(movies)):\n",
    "        counter = counter + movies[i][\"imdb\"]\n",
    "    average_score=counter/len(movies)\n",
    "    print(average_score)\n",
    "\n",
    "movies = [\n",
    "{\n",
    "\"name\": \"Usual Suspects\",\n",
    "\"imdb\": 7.0,\n",
    "\"category\": \"Thriller\"\n",
    "},\n",
    "{\n",
    "\"name\": \"Hitman\",\n",
    "\"imdb\": 6.3,\n",
    "\"category\": \"Action\"\n",
    "},\n",
    "{\n",
    "\"name\": \"Dark Knight\",\n",
    "\"imdb\": 9.0,\n",
    "\"category\": \"Adventure\"\n",
    "},\n",
    "{\n",
    "\"name\": \"The Help\",\n",
    "\"imdb\": 8.0,\n",
    "\"category\": \"Drama\"\n",
    "},\n",
    "{\n",
    "\"name\": \"The Choice\",\n",
    "\"imdb\": 6.2,\n",
    "\"category\": \"Romance\"\n",
    "},\n",
    "{\n",
    "\"name\": \"Colonia\",\n",
    "\"imdb\": 7.4,\n",
    "\"category\": \"Romance\"\n",
    "},\n",
    "{\n",
    "\"name\": \"Love\",\n",
    "\"imdb\": 6.0,\n",
    "\"category\": \"Romance\"\n",
    "},\n",
    "{\n",
    "\"name\": \"Bride Wars\",\n",
    "\"imdb\": 5.4,\n",
    "\"category\": \"Romance\"\n",
    "},\n",
    "{\n",
    "\"name\": \"AlphaJet\",\n",
    "\"imdb\": 3.2,\n",
    "\"category\": \"War\"\n",
    "},\n",
    "{\n",
    "\"name\": \"Ringing Crime\",\n",
    "\"imdb\": 4.0,\n",
    "\"category\": \"Crime\"\n",
    "},\n",
    "{\n",
    "\"name\": \"Joking muck\",\n",
    "\"imdb\": 7.2,\n",
    "\"category\": \"Comedy\"\n",
    "},\n",
    "{\n",
    "\"name\": \"What is the name\",\n",
    "\"imdb\": 9.2,\n",
    "\"category\": \"Suspense\"\n",
    "},\n",
    "{\n",
    "\"name\": \"Detective\",\n",
    "\"imdb\": 7.0,\n",
    "\"category\": \"Suspense\"\n",
    "},\n",
    "{\n",
    "\"name\": \"Exam\",\n",
    "\"imdb\": 4.2,\n",
    "\"category\": \"Thriller\"\n",
    "},\n",
    "{\n",
    "\"name\": \"We Two\",\n",
    "\"imdb\": 7.2,\n",
    "\"category\": \"Romance\"\n",
    "}\n",
    "]\n",
    "aleke()\n"
   ]
  },
  {
   "cell_type": "code",
   "execution_count": 41,
   "id": "377e30a4-4009-4182-9cd3-f75ce58a3f56",
   "metadata": {},
   "outputs": [
    {
     "name": "stdin",
     "output_type": "stream",
     "text": [
      " Romance\n"
     ]
    },
    {
     "name": "stdout",
     "output_type": "stream",
     "text": [
      "6.44\n"
     ]
    }
   ],
   "source": [
    "def aleke():\n",
    "    counter=0\n",
    "    lol=0\n",
    "    a=input()\n",
    "    for movie in movies:\n",
    "        if (a==movie[\"category\"]):\n",
    "            counter=counter+movie[\"imdb\"]\n",
    "            lol+=1\n",
    "    average=counter/lol\n",
    "    print(average)\n",
    "\n",
    "\n",
    "movies = [\n",
    "{\n",
    "\"name\": \"Usual Suspects\",\n",
    "\"imdb\": 7.0,\n",
    "\"category\": \"Thriller\"\n",
    "},\n",
    "{\n",
    "\"name\": \"Hitman\",\n",
    "\"imdb\": 6.3,\n",
    "\"category\": \"Action\"\n",
    "},\n",
    "{\n",
    "\"name\": \"Dark Knight\",\n",
    "\"imdb\": 9.0,\n",
    "\"category\": \"Adventure\"\n",
    "},\n",
    "{\n",
    "\"name\": \"The Help\",\n",
    "\"imdb\": 8.0,\n",
    "\"category\": \"Drama\"\n",
    "},\n",
    "{\n",
    "\"name\": \"The Choice\",\n",
    "\"imdb\": 6.2,\n",
    "\"category\": \"Romance\"\n",
    "},\n",
    "{\n",
    "\"name\": \"Colonia\",\n",
    "\"imdb\": 7.4,\n",
    "\"category\": \"Romance\"\n",
    "},\n",
    "{\n",
    "\"name\": \"Love\",\n",
    "\"imdb\": 6.0,\n",
    "\"category\": \"Romance\"\n",
    "},\n",
    "{\n",
    "\"name\": \"Bride Wars\",\n",
    "\"imdb\": 5.4,\n",
    "\"category\": \"Romance\"\n",
    "},\n",
    "{\n",
    "\"name\": \"AlphaJet\",\n",
    "\"imdb\": 3.2,\n",
    "\"category\": \"War\"\n",
    "},\n",
    "{\n",
    "\"name\": \"Ringing Crime\",\n",
    "\"imdb\": 4.0,\n",
    "\"category\": \"Crime\"\n",
    "},\n",
    "{\n",
    "\"name\": \"Joking muck\",\n",
    "\"imdb\": 7.2,\n",
    "\"category\": \"Comedy\"\n",
    "},\n",
    "{\n",
    "\"name\": \"What is the name\",\n",
    "\"imdb\": 9.2,\n",
    "\"category\": \"Suspense\"\n",
    "},\n",
    "{\n",
    "\"name\": \"Detective\",\n",
    "\"imdb\": 7.0,\n",
    "\"category\": \"Suspense\"\n",
    "},\n",
    "{\n",
    "\"name\": \"Exam\",\n",
    "\"imdb\": 4.2,\n",
    "\"category\": \"Thriller\"\n",
    "},\n",
    "{\n",
    "\"name\": \"We Two\",\n",
    "\"imdb\": 7.2,\n",
    "\"category\": \"Romance\"\n",
    "}\n",
    "]\n",
    "aleke()\n",
    "\n"
   ]
  },
  {
   "cell_type": "code",
   "execution_count": 43,
   "id": "b4c17748-1608-4d59-ae91-02e130e3a358",
   "metadata": {},
   "outputs": [
    {
     "name": "stdin",
     "output_type": "stream",
     "text": [
      "Enter enter a message:  Aleke\n"
     ]
    },
    {
     "name": "stdout",
     "output_type": "stream",
     "text": [
      "ALEKE\n"
     ]
    }
   ],
   "source": [
    "class Bro:\n",
    "    def __init__(self, message):\n",
    "        self.name = message\n",
    "\n",
    "    def getString(self):\n",
    "        self.name = input(\"Enter enter a message: \")\n",
    "\n",
    "    def printString(self):\n",
    "        print(self.name.upper())\n",
    "\n",
    "b1 = Bro(\"\")\n",
    "b1.getString()\n",
    "b1.printString()"
   ]
  },
  {
   "cell_type": "code",
   "execution_count": 45,
   "id": "990213e4-2e54-4fe9-9a40-ba6f64fc4c6d",
   "metadata": {},
   "outputs": [
    {
     "name": "stdin",
     "output_type": "stream",
     "text": [
      " 5\n"
     ]
    },
    {
     "name": "stdout",
     "output_type": "stream",
     "text": [
      "Area of Square: 25\n",
      "Area of Shape: 0\n"
     ]
    },
    {
     "data": {
      "text/plain": [
       "0"
      ]
     },
     "execution_count": 45,
     "metadata": {},
     "output_type": "execute_result"
    }
   ],
   "source": [
    "class Shape:\n",
    "    def area(self):\n",
    "        print(\"Area of Shape: 0\")\n",
    "        return 0\n",
    "\n",
    "class Square(Shape):\n",
    "    def __init__(self, length):\n",
    "        self.length = length\n",
    "\n",
    "    def area(self):\n",
    "        area = self.length * self.length\n",
    "        print(f\"Area of Square: {area}\")\n",
    "        return area\n",
    "\n",
    "\n",
    "square = Square(int(input()))\n",
    "square.area()\n",
    "\n",
    "shape = Shape()\n",
    "shape.area()"
   ]
  },
  {
   "cell_type": "code",
   "execution_count": 47,
   "id": "685db0e5-e699-4a7f-99ae-06629c7e59c8",
   "metadata": {},
   "outputs": [
    {
     "name": "stdin",
     "output_type": "stream",
     "text": [
      "Enter l:  10\n",
      "Enter w:  5\n"
     ]
    },
    {
     "name": "stdout",
     "output_type": "stream",
     "text": [
      "50\n"
     ]
    }
   ],
   "source": [
    "class Shape:\n",
    "    def area(self):\n",
    "        return 0\n",
    "\n",
    "class Rectangle(Shape):\n",
    "    def __init__(self):\n",
    "        self.length = int(input(\"Enter l: \"))\n",
    "        self.width = int(input(\"Enter w: \"))\n",
    "\n",
    "    def area(self):\n",
    "        print(self.width * self.length)\n",
    "\n",
    "class Square(Shape):\n",
    "    def __init__(self):\n",
    "        self.length = int(input(\"Enter l of Square: \"))\n",
    "\n",
    "    def area(self):\n",
    "        print(self.length * self.length)\n",
    "\n",
    "r1 = Rectangle()\n",
    "r1.area()"
   ]
  },
  {
   "cell_type": "code",
   "execution_count": 51,
   "id": "dcc3a77d-c26e-41d3-8403-c616331942c7",
   "metadata": {},
   "outputs": [
    {
     "name": "stdin",
     "output_type": "stream",
     "text": [
      "Enter initial x1, y1 \n",
      " 13 11\n"
     ]
    },
    {
     "name": "stdout",
     "output_type": "stream",
     "text": [
      "13 11\n"
     ]
    },
    {
     "name": "stdin",
     "output_type": "stream",
     "text": [
      "Enter point to move x2, y2 \n",
      " 10 4\n"
     ]
    },
    {
     "name": "stdout",
     "output_type": "stream",
     "text": [
      "7.615773105863909\n"
     ]
    }
   ],
   "source": [
    "class Point:\n",
    "    def __init__(self):\n",
    "        x1, y1 = map(int, input(\"Enter initial x1, y1 \\n\").split())\n",
    "        self.x1 = x1\n",
    "        self.y1 = y1\n",
    "        self.x2 = 0\n",
    "        self.y2 = 0\n",
    "\n",
    "    def show(self):\n",
    "        print(self.x1, self.y1)\n",
    "\n",
    "    def move(self):\n",
    "        x2, y2 = map(int, input(\"Enter point to move x2, y2 \\n\").split())\n",
    "        self.x2 = x2\n",
    "        self.y2 = y2\n",
    "\n",
    "    def dist(self):\n",
    "        d = ((self.x2 - self.x1) ** 2 + (self.y2 - self.y1) ** 2) ** 0.5\n",
    "        print(d)\n",
    "\n",
    "p1 = Point()\n",
    "p1.show()\n",
    "p1.move()\n",
    "p1.dist()"
   ]
  },
  {
   "cell_type": "code",
   "execution_count": 57,
   "id": "cb366acf-24e2-492c-ba8e-86028adc65e6",
   "metadata": {},
   "outputs": [
    {
     "name": "stdout",
     "output_type": "stream",
     "text": [
      "Hello, can you enter some info about you?\n"
     ]
    },
    {
     "name": "stdin",
     "output_type": "stream",
     "text": [
      "Enter a name:  Aleke\n",
      "Enter a balance:  1000\n",
      "Enter pin:  2552\n"
     ]
    },
    {
     "name": "stdout",
     "output_type": "stream",
     "text": [
      "[1] get Total Balance\n",
      "[2] withdraw\n",
      "[0] exit\n"
     ]
    },
    {
     "name": "stdin",
     "output_type": "stream",
     "text": [
      " 0\n"
     ]
    }
   ],
   "source": [
    "class Account:\n",
    "    def __init__(self):\n",
    "        self.owner = input(\"Enter a name: \")\n",
    "        self.balance = int(input(\"Enter a balance: \"))  # 50000\n",
    "        self.pin = int(input(\"Enter pin: \"))\n",
    "\n",
    "    def deposit(self):\n",
    "        print(self.balance)\n",
    "\n",
    "    def withdraw(self):\n",
    "        pinCode = int(input(\"Enter pinCode\"))\n",
    "        if pinCode == self.pin:\n",
    "            drawbalance = int(input(\"Enter a drawBalance: \"))\n",
    "            if(self.balance - drawbalance >= 0):\n",
    "                self.balance -= drawbalance\n",
    "            else:\n",
    "                print(\"Недостаточно средств!!!\")\n",
    "        else:\n",
    "            print(\"тыдын дын тыдыдындын\")\n",
    "\n",
    "print(\"Hello, can you enter some info about you?\")\n",
    "a1 = Account()\n",
    "while(True):\n",
    "    print(\"[1] get Total Balance\")\n",
    "    print(\"[2] withdraw\")\n",
    "    print(\"[0] exit\")\n",
    "    choice = int(input())\n",
    "    if choice == 0:\n",
    "        break\n",
    "    elif choice == 1:\n",
    "        a1.deposit()\n",
    "    elif choice == 2:\n",
    "        a1.withdraw()"
   ]
  },
  {
   "cell_type": "code",
   "execution_count": null,
   "id": "17ab8eab-bb29-45c6-bdfd-2f957f5c62ea",
   "metadata": {},
   "outputs": [],
   "source": []
  },
  {
   "cell_type": "code",
   "execution_count": null,
   "id": "1098d7df-3769-461c-8470-2da65f24fe39",
   "metadata": {},
   "outputs": [],
   "source": []
  }
 ],
 "metadata": {
  "kernelspec": {
   "display_name": "Python [conda env:base] *",
   "language": "python",
   "name": "conda-base-py"
  },
  "language_info": {
   "codemirror_mode": {
    "name": "ipython",
    "version": 3
   },
   "file_extension": ".py",
   "mimetype": "text/x-python",
   "name": "python",
   "nbconvert_exporter": "python",
   "pygments_lexer": "ipython3",
   "version": "3.12.7"
  }
 },
 "nbformat": 4,
 "nbformat_minor": 5
}
